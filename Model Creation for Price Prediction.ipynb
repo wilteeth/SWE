{
 "cells": [
  {
   "cell_type": "code",
   "execution_count": 1,
   "id": "c6811b96",
   "metadata": {},
   "outputs": [],
   "source": [
    "import pandas as pd\n",
    "import numpy as np\n",
    "import matplotlib.pyplot as plt\n",
    "import pickle\n",
    "plt.rcParams['figure.figsize'] = (15, 10)\n",
    "\n",
    "%matplotlib inline\n"
   ]
  },
  {
   "cell_type": "code",
   "execution_count": 2,
   "id": "6bc44f31",
   "metadata": {},
   "outputs": [],
   "source": [
    "from sklearn import linear_model\n",
    "from sklearn.model_selection import train_test_split"
   ]
  },
  {
   "cell_type": "code",
   "execution_count": 3,
   "id": "7ab2f8e9",
   "metadata": {
    "scrolled": true
   },
   "outputs": [],
   "source": [
    "df1 = pd.read_csv('1-room-flat-data.csv')\n",
    "df2 = pd.read_csv('2-room-flat-data.csv')\n",
    "df3 = pd.read_csv('3-room-flat-data.csv')\n",
    "df4 = pd.read_csv('4-room-flat-data.csv')\n",
    "df5 = pd.read_csv('5-room-flat-data.csv')\n",
    "dfMulti = pd.read_csv('multi-generation-flat-data.csv')\n",
    "dfExec = pd.read_csv('executive-flat-data.csv')\n"
   ]
  },
  {
   "cell_type": "code",
   "execution_count": 4,
   "id": "dd152a18",
   "metadata": {},
   "outputs": [],
   "source": [
    "# y is the resale_price, target variable for our model\n",
    "y1 = df1[['resale_price']]\n",
    "y2 = df2[['resale_price']]\n",
    "y3 = df3[['resale_price']]\n",
    "y4 = df4[['resale_price']]\n",
    "y5 = df5[['resale_price']]\n",
    "yMulti = dfMulti[['resale_price']]\n",
    "yExec = dfExec[['resale_price']]"
   ]
  },
  {
   "cell_type": "code",
   "execution_count": 5,
   "id": "5fb484f7",
   "metadata": {},
   "outputs": [],
   "source": [
    "# x is the input variable that will be used to predict resale price. we have used almost all the data columns we have in dataset.\n",
    "x1 = df1[['floor_area_sqm','remaining_lease','storey','town_premium','flat_model_premium','time_to_city','nearest_mall','nearest_school','nearest_mrt']]\n",
    "x2 = df2[['floor_area_sqm','remaining_lease','storey','town_premium','flat_model_premium','time_to_city','nearest_mall','nearest_school','nearest_mrt']]\n",
    "x3 = df3[['floor_area_sqm','remaining_lease','storey','town_premium','flat_model_premium','time_to_city','nearest_mall','nearest_school','nearest_mrt']]\n",
    "x4 = df4[['floor_area_sqm','remaining_lease','storey','town_premium','flat_model_premium','time_to_city','nearest_mall','nearest_school','nearest_mrt']]\n",
    "x5 = df5[['floor_area_sqm','remaining_lease','storey','town_premium','flat_model_premium','time_to_city','nearest_mall','nearest_school','nearest_mrt']]\n",
    "xMulti = dfMulti[['floor_area_sqm','remaining_lease','storey','town_premium','flat_model_premium','time_to_city','nearest_mall','nearest_school','nearest_mrt']]\n",
    "xExec = dfExec[['floor_area_sqm','remaining_lease','storey','town_premium','flat_model_premium','time_to_city','nearest_mall','nearest_school','nearest_mrt']]"
   ]
  },
  {
   "cell_type": "code",
   "execution_count": 6,
   "id": "953a3336",
   "metadata": {},
   "outputs": [],
   "source": [
    "X_train1, X_test1, y_train1, y_test1 = train_test_split(x1, y1, test_size=0.2, random_state = 2)\n",
    "X_train2, X_test2, y_train2, y_test2 = train_test_split(x2, y2, test_size=0.2, random_state = 2)\n",
    "X_train3, X_test3, y_train3, y_test3 = train_test_split(x3, y3, test_size=0.2, random_state = 2)\n",
    "X_train4, X_test4, y_train4, y_test4 = train_test_split(x4, y4, test_size=0.2, random_state = 2)\n",
    "X_train5, X_test5, y_train5, y_test5 = train_test_split(x5, y5, test_size=0.2, random_state = 2)\n",
    "X_trainMulti, X_testMulti, y_trainMulti, y_testMulti = train_test_split(xMulti, yMulti, test_size=0.2)#random_state)\n",
    "X_trainExec, X_testExec, y_trainExec, y_testExec = train_test_split(xExec, yExec, test_size=0.2)#random_state)\n",
    "\n"
   ]
  },
  {
   "cell_type": "code",
   "execution_count": 7,
   "id": "db77fb2b",
   "metadata": {},
   "outputs": [],
   "source": [
    "lm1 = linear_model.LinearRegression()\n",
    "model1 = lm1.fit(X_train1, y_train1)\n",
    "\n",
    "lm2 = linear_model.LinearRegression()\n",
    "model2 = lm2.fit(X_train2, y_train2)\n",
    "\n",
    "lm3 = linear_model.LinearRegression()\n",
    "model3 = lm3.fit(X_train3, y_train3)\n",
    "\n",
    "lm4 = linear_model.LinearRegression()\n",
    "model4 = lm4.fit(X_train4, y_train4)\n",
    "\n",
    "lm5 = linear_model.LinearRegression()\n",
    "model5 = lm5.fit(X_train5, y_train5)\n",
    "\n",
    "lmMulti = linear_model.LinearRegression()\n",
    "modelMulti = lmMulti.fit(X_trainMulti, y_trainMulti)\n",
    "\n",
    "lmExec = linear_model.LinearRegression()\n",
    "modelExec = lmExec.fit(X_trainExec, y_trainExec)"
   ]
  },
  {
   "cell_type": "code",
   "execution_count": 8,
   "id": "654acd01",
   "metadata": {},
   "outputs": [],
   "source": [
    "predictions1 = lm1.predict(X_test1)\n",
    "predictions2 = lm2.predict(X_test2)\n",
    "predictions3 = lm3.predict(X_test3)\n",
    "predictions4 = lm4.predict(X_test4)\n",
    "predictions5 = lm5.predict(X_test5)\n",
    "predictionsMulti = lmMulti.predict(X_testMulti)\n",
    "predictionsExec = lmExec.predict(X_testExec)"
   ]
  },
  {
   "cell_type": "code",
   "execution_count": 9,
   "id": "d8a568e8",
   "metadata": {},
   "outputs": [
    {
     "name": "stdout",
     "output_type": "stream",
     "text": [
      "1Room Score: -0.1687462338426411\n",
      "2Room Score: 0.39797657990641033\n",
      "3Room Score: 0.6556671646697076\n",
      "4Room Score: 0.7436631956163097\n",
      "5Room Score: 0.6981088101423178\n",
      "Multi-Gen Score: 0.8573794517021618\n",
      "Executive Score: 0.6388989684506756\n"
     ]
    }
   ],
   "source": [
    "\n",
    "#Returns the coefficient of determination R^2 of the prediction.\n",
    "print (\"1Room Score:\", model1.score(X_test1, y_test1))\n",
    "print (\"2Room Score:\", model2.score(X_test2, y_test2))\n",
    "print (\"3Room Score:\", model3.score(X_test3, y_test3))\n",
    "print (\"4Room Score:\", model4.score(X_test4, y_test4))\n",
    "print (\"5Room Score:\", model5.score(X_test5, y_test5))\n",
    "print (\"Multi-Gen Score:\", modelMulti.score(X_testMulti, y_testMulti))\n",
    "print (\"Executive Score:\", modelExec.score(X_testExec, y_testExec))"
   ]
  },
  {
   "cell_type": "code",
   "execution_count": 10,
   "id": "d0b759d3",
   "metadata": {},
   "outputs": [],
   "source": [
    "from sklearn import ensemble\n",
    "\n",
    "clf = ensemble.GradientBoostingRegressor(n_estimators = 400, max_depth=5, min_samples_split = 2, learning_rate=0.1, \n",
    "                                          loss = 'squared_error')\n"
   ]
  },
  {
   "cell_type": "code",
   "execution_count": 11,
   "id": "5862b078",
   "metadata": {},
   "outputs": [
    {
     "name": "stdout",
     "output_type": "stream",
     "text": [
      "1Room Score: 0.5298884723403315\n",
      "2Room Score: 0.8182794879048674\n",
      "3Room Score: 0.9062719010469283\n",
      "4Room Score: 0.9365371019443308\n",
      "5Room Score: 0.9329638386542778\n",
      "Multi-Gen Score: 0.7509535855976128\n",
      "Executive Score: 0.8662494041896193\n"
     ]
    }
   ],
   "source": [
    "clf.fit(X_train1,y_train1.values.ravel())\n",
    "filename1 = '1_room_prediction_model'\n",
    "pickle.dump(clf, open(filename1, 'wb'))\n",
    "\n",
    "print (\"1Room Score:\", clf.score(X_test1,y_test1))\n",
    "\n",
    "clf.fit(X_train2,y_train2.values.ravel())\n",
    "filename2 = '2_room_prediction_model'\n",
    "pickle.dump(clf, open(filename2, 'wb'))\n",
    "\n",
    "print (\"2Room Score:\", clf.score(X_test2,y_test2))\n",
    "\n",
    "clf.fit(X_train3,y_train3.values.ravel())\n",
    "filename3 = '3_room_prediction_model'\n",
    "pickle.dump(clf, open(filename3, 'wb'))\n",
    "\n",
    "print (\"3Room Score:\", clf.score(X_test3,y_test3))\n",
    "\n",
    "clf.fit(X_train4,y_train4.values.ravel())\n",
    "filename4 = '4_room_prediction_model'\n",
    "pickle.dump(clf, open(filename4, 'wb'))\n",
    "\n",
    "print (\"4Room Score:\", clf.score(X_test4,y_test4))\n",
    "\n",
    "clf.fit(X_train5,y_train5.values.ravel())\n",
    "filename5 = '5_room_prediction_model'\n",
    "pickle.dump(clf, open(filename5, 'wb'))\n",
    "\n",
    "print (\"5Room Score:\", clf.score(X_test5,y_test5))\n",
    "\n",
    "clf.fit(X_trainMulti,y_trainMulti.values.ravel())\n",
    "filenameMulti = 'multi_generation_prediction_model'\n",
    "pickle.dump(clf, open(filenameMulti, 'wb'))\n",
    "\n",
    "print (\"Multi-Gen Score:\", clf.score(X_testMulti,y_testMulti))\n",
    "\n",
    "clf.fit(X_trainExec,y_trainExec.values.ravel())\n",
    "filenameExec = 'executive_prediction_model'\n",
    "pickle.dump(clf, open(filenameExec, 'wb'))\n",
    "\n",
    "print (\"Executive Score:\", clf.score(X_testExec,y_testExec))"
   ]
  },
  {
   "cell_type": "code",
   "execution_count": null,
   "id": "f292be03",
   "metadata": {},
   "outputs": [],
   "source": [
    "\n",
    "\n",
    "\n",
    "\n",
    "\n",
    "\n"
   ]
  },
  {
   "cell_type": "code",
   "execution_count": null,
   "id": "4b3a78fb",
   "metadata": {},
   "outputs": [],
   "source": []
  }
 ],
 "metadata": {
  "kernelspec": {
   "display_name": "Python 3 (ipykernel)",
   "language": "python",
   "name": "python3"
  },
  "language_info": {
   "codemirror_mode": {
    "name": "ipython",
    "version": 3
   },
   "file_extension": ".py",
   "mimetype": "text/x-python",
   "name": "python",
   "nbconvert_exporter": "python",
   "pygments_lexer": "ipython3",
   "version": "3.9.12"
  }
 },
 "nbformat": 4,
 "nbformat_minor": 5
}
