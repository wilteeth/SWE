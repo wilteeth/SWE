{
 "cells": [
  {
   "cell_type": "code",
   "execution_count": 1,
   "id": "70912983",
   "metadata": {},
   "outputs": [],
   "source": [
    "%matplotlib inline\n",
    "import pandas as pd\n",
    "import numpy as np\n",
    "import matplotlib.pyplot as plt\n",
    "plt.rcParams['figure.figsize'] = (15, 10)"
   ]
  },
  {
   "cell_type": "code",
   "execution_count": 2,
   "id": "446bcff5",
   "metadata": {
    "scrolled": true
   },
   "outputs": [],
   "source": [
    "original_df= pd.read_csv('resale-flat-prices-jan-2017-onwards.csv')"
   ]
  },
  {
   "cell_type": "code",
   "execution_count": 3,
   "id": "9a1afb29",
   "metadata": {},
   "outputs": [
    {
     "data": {
      "text/plain": [
       "<AxesSubplot:>"
      ]
     },
     "execution_count": 3,
     "metadata": {},
     "output_type": "execute_result"
    },
    {
     "data": {
      "image/png": "[encoded data removed]",
      "text/plain": [
       "<Figure size 1080x720 with 1 Axes>"
      ]
     },
     "metadata": {
      "needs_background": "light"
     },
     "output_type": "display_data"
    }
   ],
   "source": [
    "#Majority of the flats sold in Singapore is 4 ROOM.\n",
    "original_df['flat_type'].value_counts()[:5].plot(kind='bar')"
   ]
  },
  {
   "cell_type": "code",
   "execution_count": 4,
   "id": "b6f09264",
   "metadata": {},
   "outputs": [],
   "source": [
    "#To-Do:\n",
    "#Convert flat_model data to one-hot encoding values or label encoded values.\n",
    "#Convert storey to usable data.\n",
    "#Convert flat_type to usable data."
   ]
  },
  {
   "cell_type": "code",
   "execution_count": 5,
   "id": "d37433f0",
   "metadata": {
    "scrolled": true
   },
   "outputs": [
    {
     "data": {
      "text/plain": [
       "array(['10 TO 12', '01 TO 03', '04 TO 06', '07 TO 09', '13 TO 15',\n",
       "       '19 TO 21', '22 TO 24', '16 TO 18', '34 TO 36', '28 TO 30',\n",
       "       '37 TO 39', '49 TO 51', '25 TO 27', '40 TO 42', '31 TO 33',\n",
       "       '46 TO 48', '43 TO 45'], dtype=object)"
      ]
     },
     "execution_count": 5,
     "metadata": {},
     "output_type": "execute_result"
    }
   ],
   "source": [
    "#Check how many unique objects there are in the column.\n",
    "original_df['storey_range'].unique()"
   ]
  },
  {
   "cell_type": "code",
   "execution_count": 6,
   "id": "f421f06e",
   "metadata": {},
   "outputs": [],
   "source": [
    "#Function to get the mean of the storey the flat is likely to be in.\n",
    "#If storey_range is from 10-12, we'll take 11 as the floor of the flat.\n",
    "\n",
    "def get_mean_floor(x):\n",
    "    return int((int(x[:2]) + int(x[-2:]))*0.5)"
   ]
  },
  {
   "cell_type": "code",
   "execution_count": 7,
   "id": "3d8004fd",
   "metadata": {},
   "outputs": [],
   "source": [
    "#This column 'storey' will be used in our data analysis.\n",
    "\n",
    "original_df['storey'] = original_df['storey_range'].map(lambda x: get_mean_floor(x)) \n",
    "\n",
    "#We shall only take the remaining years of the lease into account for our data analysis.\n",
    "\n",
    "original_df['remaining_lease'] = original_df['remaining_lease'].str.rsplit(' ', n=3).str.get(0)\n"
   ]
  },
  {
   "cell_type": "code",
   "execution_count": 8,
   "id": "eeb53cf5",
   "metadata": {},
   "outputs": [],
   "source": [
    "room1_df = original_df[original_df['flat_type'] == \"1 ROOM\"]\n",
    "room2_df = original_df[original_df['flat_type'] == \"2 ROOM\"]\n",
    "room3_df = original_df[original_df['flat_type'] == \"3 ROOM\"]\n",
    "room4_df = original_df[original_df['flat_type'] == \"4 ROOM\"]\n",
    "room5_df = original_df[original_df['flat_type'] == \"5 ROOM\"]\n",
    "multigen_df = original_df[original_df['flat_type'] == \"MULTI-GENERATION\"]\n",
    "executive_df = original_df[original_df['flat_type'] == \"EXECUTIVE\"]\n"
   ]
  },
  {
   "cell_type": "code",
   "execution_count": 9,
   "id": "27bec1ef",
   "metadata": {},
   "outputs": [],
   "source": [
    "#Define town_premium variable to as the difference between median price for each town and overall median resale price\n",
    "#town premium = difference between median price for each town vs overall median resale price\n",
    "townprem = room4_df.groupby(['town'],as_index=False).median()[['town','resale_price']]\n",
    "townprem['town_premium'] = townprem['resale_price']-townprem['resale_price'].median()\n",
    "\n",
    "#flat model premium = difference between median price for each model vs overall median resale price\n",
    "flatprem= room4_df.groupby(['flat_model'],as_index = False).median()[['flat_model','resale_price']]\n",
    "flatprem['flat_model_premium'] = flatprem['resale_price']-flatprem['resale_price'].median()"
   ]
  },
  {
   "cell_type": "code",
   "execution_count": null,
   "id": "27129405",
   "metadata": {},
   "outputs": [],
   "source": [
    "def premiums(dataframe):\n",
    "    townprem = dataframe.groupby(['town'],as_index=False).median()[['town','resale_price']]\n",
    "    townprem['town_premium'] = townprem['resale_price']-townprem['resale_price'].median()\n",
    "    \n",
    "    flatprem= dataframe.groupby(['flat_model'],as_index = False).median()[['flat_model','resale_price']]\n",
    "    flatprem['flat_model_premium'] = flatprem['resale_price']-flatprem['resale_price'].median()"
   ]
  },
  {
   "cell_type": "code",
   "execution_count": 10,
   "id": "513b79f8",
   "metadata": {},
   "outputs": [],
   "source": [
    "x_df = pd.merge(room4_df, townprem[['town','town_premium']],on='town')"
   ]
  },
  {
   "cell_type": "code",
   "execution_count": 11,
   "id": "a79f97d3",
   "metadata": {},
   "outputs": [],
   "source": [
    "room4_df = pd.merge(x_df, flatprem[['flat_model','flat_model_premium']],on='flat_model')\n",
    "room4_df.head(20)\n",
    "#room4_df= room4_df.drop(['Unnamed: '],axis=1)\n",
    "room4_df.to_csv(\"multi-generation-flat-data.csv\")\n"
   ]
  },
  {
   "cell_type": "code",
   "execution_count": 12,
   "id": "d946f0b0",
   "metadata": {},
   "outputs": [
    {
     "data": {
      "text/html": [
       "<div>\n",
       "<style scoped>\n",
       "    .dataframe tbody tr th:only-of-type {\n",
       "        vertical-align: middle;\n",
       "    }\n",
       "\n",
       "    .dataframe tbody tr th {\n",
       "        vertical-align: top;\n",
       "    }\n",
       "\n",
       "    .dataframe thead th {\n",
       "        text-align: right;\n",
       "    }\n",
       "</style>\n",
       "<table border=\"1\" class=\"dataframe\">\n",
       "  <thead>\n",
       "    <tr style=\"text-align: right;\">\n",
       "      <th></th>\n",
       "      <th>month</th>\n",
       "      <th>town</th>\n",
       "      <th>flat_type</th>\n",
       "      <th>block</th>\n",
       "      <th>street_name</th>\n",
       "      <th>storey_range</th>\n",
       "      <th>floor_area_sqm</th>\n",
       "      <th>flat_model</th>\n",
       "      <th>lease_commence_date</th>\n",
       "      <th>remaining_lease</th>\n",
       "      <th>resale_price</th>\n",
       "      <th>storey</th>\n",
       "      <th>town_premium</th>\n",
       "      <th>flat_model_premium</th>\n",
       "    </tr>\n",
       "  </thead>\n",
       "  <tbody>\n",
       "    <tr>\n",
       "      <th>0</th>\n",
       "      <td>2017-09</td>\n",
       "      <td>YISHUN</td>\n",
       "      <td>MULTI-GENERATION</td>\n",
       "      <td>633</td>\n",
       "      <td>YISHUN ST 61</td>\n",
       "      <td>04 TO 06</td>\n",
       "      <td>151.0</td>\n",
       "      <td>Multi Generation</td>\n",
       "      <td>1987</td>\n",
       "      <td>69</td>\n",
       "      <td>700000.0</td>\n",
       "      <td>5</td>\n",
       "      <td>-60000.0</td>\n",
       "      <td>0.0</td>\n",
       "    </tr>\n",
       "    <tr>\n",
       "      <th>1</th>\n",
       "      <td>2017-11</td>\n",
       "      <td>YISHUN</td>\n",
       "      <td>MULTI-GENERATION</td>\n",
       "      <td>666</td>\n",
       "      <td>YISHUN AVE 4</td>\n",
       "      <td>01 TO 03</td>\n",
       "      <td>179.0</td>\n",
       "      <td>Multi Generation</td>\n",
       "      <td>1987</td>\n",
       "      <td>69</td>\n",
       "      <td>695000.0</td>\n",
       "      <td>2</td>\n",
       "      <td>-60000.0</td>\n",
       "      <td>0.0</td>\n",
       "    </tr>\n",
       "    <tr>\n",
       "      <th>2</th>\n",
       "      <td>2018-04</td>\n",
       "      <td>YISHUN</td>\n",
       "      <td>MULTI-GENERATION</td>\n",
       "      <td>666</td>\n",
       "      <td>YISHUN AVE 4</td>\n",
       "      <td>07 TO 09</td>\n",
       "      <td>164.0</td>\n",
       "      <td>Multi Generation</td>\n",
       "      <td>1987</td>\n",
       "      <td>68</td>\n",
       "      <td>728888.0</td>\n",
       "      <td>8</td>\n",
       "      <td>-60000.0</td>\n",
       "      <td>0.0</td>\n",
       "    </tr>\n",
       "    <tr>\n",
       "      <th>3</th>\n",
       "      <td>2018-06</td>\n",
       "      <td>YISHUN</td>\n",
       "      <td>MULTI-GENERATION</td>\n",
       "      <td>666</td>\n",
       "      <td>YISHUN AVE 4</td>\n",
       "      <td>07 TO 09</td>\n",
       "      <td>164.0</td>\n",
       "      <td>Multi Generation</td>\n",
       "      <td>1987</td>\n",
       "      <td>68</td>\n",
       "      <td>765000.0</td>\n",
       "      <td>8</td>\n",
       "      <td>-60000.0</td>\n",
       "      <td>0.0</td>\n",
       "    </tr>\n",
       "    <tr>\n",
       "      <th>4</th>\n",
       "      <td>2018-07</td>\n",
       "      <td>YISHUN</td>\n",
       "      <td>MULTI-GENERATION</td>\n",
       "      <td>666</td>\n",
       "      <td>YISHUN AVE 4</td>\n",
       "      <td>10 TO 12</td>\n",
       "      <td>164.0</td>\n",
       "      <td>Multi Generation</td>\n",
       "      <td>1987</td>\n",
       "      <td>68</td>\n",
       "      <td>770000.0</td>\n",
       "      <td>11</td>\n",
       "      <td>-60000.0</td>\n",
       "      <td>0.0</td>\n",
       "    </tr>\n",
       "    <tr>\n",
       "      <th>...</th>\n",
       "      <td>...</td>\n",
       "      <td>...</td>\n",
       "      <td>...</td>\n",
       "      <td>...</td>\n",
       "      <td>...</td>\n",
       "      <td>...</td>\n",
       "      <td>...</td>\n",
       "      <td>...</td>\n",
       "      <td>...</td>\n",
       "      <td>...</td>\n",
       "      <td>...</td>\n",
       "      <td>...</td>\n",
       "      <td>...</td>\n",
       "      <td>...</td>\n",
       "    </tr>\n",
       "    <tr>\n",
       "      <th>61</th>\n",
       "      <td>2021-06</td>\n",
       "      <td>TAMPINES</td>\n",
       "      <td>MULTI-GENERATION</td>\n",
       "      <td>454</td>\n",
       "      <td>TAMPINES ST 42</td>\n",
       "      <td>01 TO 03</td>\n",
       "      <td>132.0</td>\n",
       "      <td>Multi Generation</td>\n",
       "      <td>1987</td>\n",
       "      <td>65</td>\n",
       "      <td>630000.0</td>\n",
       "      <td>2</td>\n",
       "      <td>0.0</td>\n",
       "      <td>0.0</td>\n",
       "    </tr>\n",
       "    <tr>\n",
       "      <th>62</th>\n",
       "      <td>2021-12</td>\n",
       "      <td>TAMPINES</td>\n",
       "      <td>MULTI-GENERATION</td>\n",
       "      <td>454</td>\n",
       "      <td>TAMPINES ST 42</td>\n",
       "      <td>04 TO 06</td>\n",
       "      <td>166.0</td>\n",
       "      <td>Multi Generation</td>\n",
       "      <td>1987</td>\n",
       "      <td>64</td>\n",
       "      <td>850000.0</td>\n",
       "      <td>5</td>\n",
       "      <td>0.0</td>\n",
       "      <td>0.0</td>\n",
       "    </tr>\n",
       "    <tr>\n",
       "      <th>63</th>\n",
       "      <td>2022-02</td>\n",
       "      <td>TAMPINES</td>\n",
       "      <td>MULTI-GENERATION</td>\n",
       "      <td>454</td>\n",
       "      <td>TAMPINES ST 42</td>\n",
       "      <td>04 TO 06</td>\n",
       "      <td>132.0</td>\n",
       "      <td>Multi Generation</td>\n",
       "      <td>1987</td>\n",
       "      <td>64</td>\n",
       "      <td>683888.0</td>\n",
       "      <td>5</td>\n",
       "      <td>0.0</td>\n",
       "      <td>0.0</td>\n",
       "    </tr>\n",
       "    <tr>\n",
       "      <th>64</th>\n",
       "      <td>2022-03</td>\n",
       "      <td>TAMPINES</td>\n",
       "      <td>MULTI-GENERATION</td>\n",
       "      <td>454</td>\n",
       "      <td>TAMPINES ST 42</td>\n",
       "      <td>01 TO 03</td>\n",
       "      <td>166.0</td>\n",
       "      <td>Multi Generation</td>\n",
       "      <td>1987</td>\n",
       "      <td>64</td>\n",
       "      <td>848000.0</td>\n",
       "      <td>2</td>\n",
       "      <td>0.0</td>\n",
       "      <td>0.0</td>\n",
       "    </tr>\n",
       "    <tr>\n",
       "      <th>65</th>\n",
       "      <td>2022-05</td>\n",
       "      <td>TAMPINES</td>\n",
       "      <td>MULTI-GENERATION</td>\n",
       "      <td>460</td>\n",
       "      <td>TAMPINES ST 42</td>\n",
       "      <td>10 TO 12</td>\n",
       "      <td>150.0</td>\n",
       "      <td>Multi Generation</td>\n",
       "      <td>1987</td>\n",
       "      <td>64</td>\n",
       "      <td>968000.0</td>\n",
       "      <td>11</td>\n",
       "      <td>0.0</td>\n",
       "      <td>0.0</td>\n",
       "    </tr>\n",
       "  </tbody>\n",
       "</table>\n",
       "<p>66 rows × 14 columns</p>\n",
       "</div>"
      ],
      "text/plain": [
       "      month      town         flat_type block     street_name storey_range  \\\n",
       "0   2017-09    YISHUN  MULTI-GENERATION   633    YISHUN ST 61     04 TO 06   \n",
       "1   2017-11    YISHUN  MULTI-GENERATION   666    YISHUN AVE 4     01 TO 03   \n",
       "2   2018-04    YISHUN  MULTI-GENERATION   666    YISHUN AVE 4     07 TO 09   \n",
       "3   2018-06    YISHUN  MULTI-GENERATION   666    YISHUN AVE 4     07 TO 09   \n",
       "4   2018-07    YISHUN  MULTI-GENERATION   666    YISHUN AVE 4     10 TO 12   \n",
       "..      ...       ...               ...   ...             ...          ...   \n",
       "61  2021-06  TAMPINES  MULTI-GENERATION   454  TAMPINES ST 42     01 TO 03   \n",
       "62  2021-12  TAMPINES  MULTI-GENERATION   454  TAMPINES ST 42     04 TO 06   \n",
       "63  2022-02  TAMPINES  MULTI-GENERATION   454  TAMPINES ST 42     04 TO 06   \n",
       "64  2022-03  TAMPINES  MULTI-GENERATION   454  TAMPINES ST 42     01 TO 03   \n",
       "65  2022-05  TAMPINES  MULTI-GENERATION   460  TAMPINES ST 42     10 TO 12   \n",
       "\n",
       "    floor_area_sqm        flat_model  lease_commence_date remaining_lease  \\\n",
       "0            151.0  Multi Generation                 1987              69   \n",
       "1            179.0  Multi Generation                 1987              69   \n",
       "2            164.0  Multi Generation                 1987              68   \n",
       "3            164.0  Multi Generation                 1987              68   \n",
       "4            164.0  Multi Generation                 1987              68   \n",
       "..             ...               ...                  ...             ...   \n",
       "61           132.0  Multi Generation                 1987              65   \n",
       "62           166.0  Multi Generation                 1987              64   \n",
       "63           132.0  Multi Generation                 1987              64   \n",
       "64           166.0  Multi Generation                 1987              64   \n",
       "65           150.0  Multi Generation                 1987              64   \n",
       "\n",
       "    resale_price  storey  town_premium  flat_model_premium  \n",
       "0       700000.0       5      -60000.0                 0.0  \n",
       "1       695000.0       2      -60000.0                 0.0  \n",
       "2       728888.0       8      -60000.0                 0.0  \n",
       "3       765000.0       8      -60000.0                 0.0  \n",
       "4       770000.0      11      -60000.0                 0.0  \n",
       "..           ...     ...           ...                 ...  \n",
       "61      630000.0       2           0.0                 0.0  \n",
       "62      850000.0       5           0.0                 0.0  \n",
       "63      683888.0       5           0.0                 0.0  \n",
       "64      848000.0       2           0.0                 0.0  \n",
       "65      968000.0      11           0.0                 0.0  \n",
       "\n",
       "[66 rows x 14 columns]"
      ]
     },
     "execution_count": 12,
     "metadata": {},
     "output_type": "execute_result"
    }
   ],
   "source": []
  },
  {
   "cell_type": "code",
   "execution_count": null,
   "id": "50321f95",
   "metadata": {},
   "outputs": [],
   "source": [
    "room4model = pickle.load(open(\"4_room_prediction_model\", 'rb'))\n",
    "room4model.predict([[95,87,41,113500,228000]])"
   ]
  },
  {
   "cell_type": "code",
   "execution_count": null,
   "id": "d3567c80",
   "metadata": {},
   "outputs": [],
   "source": []
  }
 ],
 "metadata": {
  "kernelspec": {
   "display_name": "Python 3 (ipykernel)",
   "language": "python",
   "name": "python3"
  },
  "language_info": {
   "codemirror_mode": {
    "name": "ipython",
    "version": 3
   },
   "file_extension": ".py",
   "mimetype": "text/x-python",
   "name": "python",
   "nbconvert_exporter": "python",
   "pygments_lexer": "ipython3",
   "version": "3.9.12"
  }
 },
 "nbformat": 4,
 "nbformat_minor": 5
}
