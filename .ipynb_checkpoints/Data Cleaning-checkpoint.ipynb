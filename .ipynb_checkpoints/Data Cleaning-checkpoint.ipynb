{
 "cells": [
  {
   "cell_type": "code",
   "execution_count": 1,
   "id": "32cb195c",
   "metadata": {},
   "outputs": [],
   "source": [
    "import pandas as pd\n",
    "import numpy as np\n",
    "import matplotlib.pyplot as plt\n",
    "import pickle\n",
    "\n",
    "%matplotlib inline "
   ]
  },
  {
   "cell_type": "code",
   "execution_count": 3,
   "id": "7591739d",
   "metadata": {},
   "outputs": [],
   "source": [
    "blk_streetname = pd.read_csv(\"blk_and_streetname.csv\")\n",
    "blk_streetname[\"location\"] = blk_streetname[\"block\"] + ' ' + blk_streetname[\"street_name\"]\n",
    "blk_streetname = blk_streetname.drop(columns=['block','street_name'])\n",
    "blk_streetname.sort_values(\"location\", inplace=True)\n",
    "blk_streetname.drop_duplicates(keep='first', inplace=True)\n",
    "blk_streetname.to_csv(\"blk name cleaned.csv\")"
   ]
  },
  {
   "cell_type": "code",
   "execution_count": null,
   "id": "40764b1a",
   "metadata": {},
   "outputs": [],
   "source": []
  }
 ],
 "metadata": {
  "kernelspec": {
   "display_name": "Python 3 (ipykernel)",
   "language": "python",
   "name": "python3"
  },
  "language_info": {
   "codemirror_mode": {
    "name": "ipython",
    "version": 3
   },
   "file_extension": ".py",
   "mimetype": "text/x-python",
   "name": "python",
   "nbconvert_exporter": "python",
   "pygments_lexer": "ipython3",
   "version": "3.9.12"
  }
 },
 "nbformat": 4,
 "nbformat_minor": 5
}
