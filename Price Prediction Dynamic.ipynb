{
 "cells": [
  {
   "cell_type": "code",
   "execution_count": 4,
   "id": "f47863d0",
   "metadata": {},
   "outputs": [],
   "source": [
    "import pickle\n",
    "import pandas as pd\n",
    "import numpy as np\n",
    "\n",
    "import warnings\n",
    "warnings.filterwarnings('ignore')"
   ]
  },
  {
   "cell_type": "code",
   "execution_count": 5,
   "id": "ecf33138",
   "metadata": {},
   "outputs": [],
   "source": [
    "# make sure the files are in the same directory\n",
    "loaded_model2 = pickle.load(open(\"2_room_prediction_model\", 'rb'))\n",
    "loaded_model3 = pickle.load(open(\"3_room_prediction_model\", 'rb'))\n",
    "loaded_model4 = pickle.load(open(\"4_room_prediction_model\", 'rb'))\n",
    "loaded_model5 = pickle.load(open(\"5_room_prediction_model\", 'rb'))\n",
    "loaded_modelExec = pickle.load(open(\"executive_prediction_model\", 'rb'))"
   ]
  },
  {
   "cell_type": "code",
   "execution_count": 6,
   "id": "4ed35f58",
   "metadata": {},
   "outputs": [],
   "source": [
    "#Example using the 4room prediction model, and your own values\n",
    "floor_area_sqm = 92\n",
    "remaining_lease =61\n",
    "storey = 11\n",
    "town_premium = -3500\n",
    "flat_model_premium = -55000\n",
    "time_to_city =  33.0\n",
    "nearest_mall = 1465\n",
    "nearest_school = 944\n",
    "nearest_mrt =  1160\n",
    "price = loaded_model4.predict([[floor_area_sqm,\n",
    "                        remaining_lease,\n",
    "                        storey,\n",
    "                        town_premium,\n",
    "                        flat_model_premium,\n",
    "                        time_to_city,\n",
    "                        nearest_mall,\n",
    "                        nearest_school,\n",
    "                        nearest_mrt]])"
   ]
  },
  {
   "cell_type": "code",
   "execution_count": 8,
   "id": "eeaf891e",
   "metadata": {},
   "outputs": [
    {
     "data": {
      "text/plain": [
       "416772.34918734693"
      ]
     },
     "execution_count": 8,
     "metadata": {},
     "output_type": "execute_result"
    }
   ],
   "source": [
    "price[0]"
   ]
  },
  {
   "cell_type": "code",
   "execution_count": null,
   "id": "f99d9908",
   "metadata": {},
   "outputs": [],
   "source": []
  }
 ],
 "metadata": {
  "kernelspec": {
   "display_name": "Python 3 (ipykernel)",
   "language": "python",
   "name": "python3"
  },
  "language_info": {
   "codemirror_mode": {
    "name": "ipython",
    "version": 3
   },
   "file_extension": ".py",
   "mimetype": "text/x-python",
   "name": "python",
   "nbconvert_exporter": "python",
   "pygments_lexer": "ipython3",
   "version": "3.9.12"
  }
 },
 "nbformat": 4,
 "nbformat_minor": 5
}
