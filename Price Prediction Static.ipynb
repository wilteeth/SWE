{
 "cells": [
  {
   "cell_type": "code",
   "execution_count": 1,
   "id": "96f3dd99",
   "metadata": {},
   "outputs": [],
   "source": [
    "import pickle\n",
    "import pandas as pd\n",
    "import numpy as np\n",
    "\n",
    "import warnings\n",
    "warnings.filterwarnings('ignore')"
   ]
  },
  {
   "cell_type": "code",
   "execution_count": 2,
   "id": "5fe46547",
   "metadata": {},
   "outputs": [],
   "source": [
    "loaded_model2 = pickle.load(open(\"2_room_prediction_model\", 'rb'))\n",
    "loaded_model3 = pickle.load(open(\"3_room_prediction_model\", 'rb'))\n",
    "loaded_model4 = pickle.load(open(\"4_room_prediction_model\", 'rb'))\n",
    "loaded_model5 = pickle.load(open(\"5_room_prediction_model\", 'rb'))\n",
    "loaded_modelExec = pickle.load(open(\"executive_prediction_model\", 'rb'))"
   ]
  },
  {
   "cell_type": "code",
   "execution_count": 3,
   "id": "f1d46711",
   "metadata": {},
   "outputs": [],
   "source": [
    "df2 = pd.read_csv('2-room-flat-data.csv')\n",
    "df3 = pd.read_csv('3-room-flat-data.csv')\n",
    "df4 = pd.read_csv('4-room-flat-data.csv')\n",
    "df5 = pd.read_csv('5-room-flat-data.csv')\n",
    "dfExec = pd.read_csv('executive-flat-data.csv')"
   ]
  },
  {
   "cell_type": "code",
   "execution_count": 4,
   "id": "d3b3f38b",
   "metadata": {},
   "outputs": [],
   "source": [
    "df2 = df2.drop(columns =['Unnamed: 0'])\n",
    "df3 = df3.drop(columns =['Unnamed: 0'])\n",
    "df4 = df4.drop(columns =['Unnamed: 0'])\n",
    "df5 = df5.drop(columns =['Unnamed: 0'])\n",
    "dfExec = dfExec.drop(columns =['Unnamed: 0'])"
   ]
  },
  {
   "cell_type": "code",
   "execution_count": 5,
   "id": "80654730",
   "metadata": {},
   "outputs": [],
   "source": [
    "list2 = df2.values.tolist()\n",
    "list3 = df3.values.tolist()\n",
    "list4 = df4.values.tolist()\n",
    "list5 = df5.values.tolist()\n",
    "listExec = dfExec.values.tolist()"
   ]
  },
  {
   "cell_type": "code",
   "execution_count": 6,
   "id": "ab03f45a",
   "metadata": {},
   "outputs": [],
   "source": [
    "predictedprice_list2 =[]\n",
    "predictedprice_list3 =[]\n",
    "predictedprice_list4 =[]\n",
    "predictedprice_list5 =[]\n",
    "predictedprice_listExec =[]\n",
    "# Parameters for model\n",
    "# floor_area_sqm \n",
    "# remaining_lease\n",
    "# storey\n",
    "# town_premium\n",
    "# flat_model_premium\n",
    "# time_to_city\n",
    "# nearest_mall\n",
    "# nearest_school\n",
    "# nearest_mrt\n",
    "\n",
    "\n"
   ]
  },
  {
   "cell_type": "code",
   "execution_count": 7,
   "id": "950a2eff",
   "metadata": {},
   "outputs": [],
   "source": [
    "def predict(data,pricelist,model):\n",
    "    floorsqm = 6\n",
    "    lease = 9\n",
    "    storey = 17\n",
    "    townprem = 18\n",
    "    flatprem = 19\n",
    "    timetocity = 13\n",
    "    mall = 14\n",
    "    school = 15\n",
    "    mrt = 16\n",
    "    for i in range(len(data)):\n",
    "        price = model.predict([[data[i][floorsqm],\n",
    "                                data[i][lease],\n",
    "                                data[i][storey],\n",
    "                                data[i][townprem],\n",
    "                                data[i][flatprem],\n",
    "                                data[i][timetocity],\n",
    "                                data[i][mall],\n",
    "                                data[i][school],\n",
    "                                data[i][mrt]]])\n",
    "        pricelist.append(price[0])"
   ]
  },
  {
   "cell_type": "code",
   "execution_count": 8,
   "id": "e7db2bd1",
   "metadata": {},
   "outputs": [],
   "source": [
    "predict(list2,predictedprice_list2,loaded_model2)\n",
    "predict(list3,predictedprice_list3,loaded_model3)\n",
    "predict(list4,predictedprice_list4,loaded_model4)\n",
    "predict(list5,predictedprice_list5,loaded_model5)\n",
    "predict(listExec,predictedprice_listExec,loaded_modelExec)"
   ]
  },
  {
   "cell_type": "code",
   "execution_count": 9,
   "id": "fca18fa0",
   "metadata": {},
   "outputs": [],
   "source": [
    "df2['Predicted Price'] = predictedprice_list2\n",
    "df3['Predicted Price'] = predictedprice_list3\n",
    "df4['Predicted Price'] = predictedprice_list4\n",
    "df5['Predicted Price'] = predictedprice_list5\n",
    "dfExec['Predicted Price'] = predictedprice_listExec"
   ]
  },
  {
   "cell_type": "code",
   "execution_count": 10,
   "id": "3b30696b",
   "metadata": {},
   "outputs": [],
   "source": [
    "df2.to_csv('2-room-flat-data.csv')\n",
    "df3.to_csv('3-room-flat-data.csv')\n",
    "df4.to_csv('4-room-flat-data.csv')\n",
    "df5.to_csv('5-room-flat-data.csv')\n",
    "dfExec.to_csv('executive-flat-data.csv')"
   ]
  },
  {
   "cell_type": "code",
   "execution_count": null,
   "id": "26d8ba06",
   "metadata": {},
   "outputs": [],
   "source": []
  },
  {
   "cell_type": "code",
   "execution_count": null,
   "id": "5ba0e7df",
   "metadata": {},
   "outputs": [],
   "source": []
  },
  {
   "cell_type": "code",
   "execution_count": null,
   "id": "69dfab67",
   "metadata": {},
   "outputs": [],
   "source": []
  }
 ],
 "metadata": {
  "kernelspec": {
   "display_name": "Python 3 (ipykernel)",
   "language": "python",
   "name": "python3"
  },
  "language_info": {
   "codemirror_mode": {
    "name": "ipython",
    "version": 3
   },
   "file_extension": ".py",
   "mimetype": "text/x-python",
   "name": "python",
   "nbconvert_exporter": "python",
   "pygments_lexer": "ipython3",
   "version": "3.9.12"
  }
 },
 "nbformat": 4,
 "nbformat_minor": 5
}
