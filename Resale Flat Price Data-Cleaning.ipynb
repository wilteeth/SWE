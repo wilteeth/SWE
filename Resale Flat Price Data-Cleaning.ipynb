{
 "cells": [
  {
   "cell_type": "code",
   "execution_count": 1,
   "id": "70912983",
   "metadata": {},
   "outputs": [],
   "source": [
    "\n",
    "import pandas as pd\n",
    "import numpy as np\n",
    "import matplotlib.pyplot as plt\n",
    "plt.rcParams['figure.figsize'] = (15, 10)\n",
    "%matplotlib inline"
   ]
  },
  {
   "cell_type": "code",
   "execution_count": 2,
   "id": "446bcff5",
   "metadata": {
    "scrolled": true
   },
   "outputs": [],
   "source": [
    "original_df= pd.read_csv('resale-flat-prices-cleaned.csv')"
   ]
  },
  {
   "cell_type": "code",
   "execution_count": 3,
   "id": "9a1afb29",
   "metadata": {},
   "outputs": [
    {
     "data": {
      "text/plain": [
       "<AxesSubplot:>"
      ]
     },
     "execution_count": 3,
     "metadata": {},
     "output_type": "execute_result"
    },
    {
     "data": {
      "image/png": "[encoded data removed]",
      "text/plain": [
       "<Figure size 432x288 with 1 Axes>"
      ]
     },
     "metadata": {
      "needs_background": "light"
     },
     "output_type": "display_data"
    }
   ],
   "source": [
    "#Majority of the flats sold in Singapore is 4 ROOM.\n",
    "original_df['flat_type'].value_counts()[:5].plot(kind='bar')"
   ]
  },
  {
   "cell_type": "code",
   "execution_count": 4,
   "id": "b6f09264",
   "metadata": {},
   "outputs": [],
   "source": [
    "#To-Do:\n",
    "#Convert flat_model data to one-hot encoding values or label encoded values.\n",
    "#Convert storey to usable data.\n",
    "#Convert flat_type to usable data."
   ]
  },
  {
   "cell_type": "code",
   "execution_count": 5,
   "id": "d37433f0",
   "metadata": {
    "scrolled": true
   },
   "outputs": [
    {
     "data": {
      "text/plain": [
       "array(['10 TO 12', '01 TO 03', '04 TO 06', '07 TO 09', '13 TO 15',\n",
       "       '19 TO 21', '22 TO 24', '16 TO 18', '34 TO 36', '28 TO 30',\n",
       "       '37 TO 39', '49 TO 51', '25 TO 27', '40 TO 42', '31 TO 33',\n",
       "       '46 TO 48', '43 TO 45'], dtype=object)"
      ]
     },
     "execution_count": 5,
     "metadata": {},
     "output_type": "execute_result"
    }
   ],
   "source": [
    "#Check how many unique objects there are in the column.\n",
    "original_df['storey_range'].unique()"
   ]
  },
  {
   "cell_type": "code",
   "execution_count": 6,
   "id": "f421f06e",
   "metadata": {},
   "outputs": [],
   "source": [
    "#Function to get the mean of the storey the flat is likely to be in.\n",
    "#If storey_range is from 10-12, we'll take 11 as the floor of the flat.\n",
    "\n",
    "def get_mean_floor(x):\n",
    "    return int((int(x[:2]) + int(x[-2:]))*0.5)"
   ]
  },
  {
   "cell_type": "code",
   "execution_count": 7,
   "id": "3d8004fd",
   "metadata": {},
   "outputs": [],
   "source": [
    "#This column 'storey' will be used in our data analysis.\n",
    "\n",
    "original_df['storey'] = original_df['storey_range'].map(lambda x: get_mean_floor(x)) \n",
    "\n",
    "#We shall only take the remaining years of the lease into account for our data analysis.\n",
    "\n",
    "#original_df['remaining_lease'] = original_df['remaining_lease'].str.rsplit(' ', n=3).str.get(0)\n"
   ]
  },
  {
   "cell_type": "code",
   "execution_count": 8,
   "id": "eeb53cf5",
   "metadata": {},
   "outputs": [],
   "source": [
    "room1_df = original_df[original_df['flat_type'] == \"1 ROOM\"]\n",
    "room2_df = original_df[original_df['flat_type'] == \"2 ROOM\"]\n",
    "room3_df = original_df[original_df['flat_type'] == \"3 ROOM\"]\n",
    "room4_df = original_df[original_df['flat_type'] == \"4 ROOM\"]\n",
    "room5_df = original_df[original_df['flat_type'] == \"5 ROOM\"]\n",
    "multigen_df = original_df[original_df['flat_type'] == \"MULTI-GENERATION\"]\n",
    "executive_df = original_df[original_df['flat_type'] == \"EXECUTIVE\"]\n"
   ]
  },
  {
   "cell_type": "code",
   "execution_count": 9,
   "id": "27bec1ef",
   "metadata": {},
   "outputs": [],
   "source": [
    "#Define town_premium variable to as the difference between median price for each town and overall median resale price\n",
    "#town premium = difference between median price for each town vs overall median resale price\n",
    "townprem1 = room1_df.groupby(['town'],as_index=False).median()[['town','resale_price']]\n",
    "townprem1['town_premium'] = townprem1['resale_price']-townprem1['resale_price'].median()\n",
    "\n",
    "townprem2 = room2_df.groupby(['town'],as_index=False).median()[['town','resale_price']]\n",
    "townprem2['town_premium'] = townprem2['resale_price']-townprem2['resale_price'].median()\n",
    "\n",
    "townprem3 = room3_df.groupby(['town'],as_index=False).median()[['town','resale_price']]\n",
    "townprem3['town_premium'] = townprem3['resale_price']-townprem3['resale_price'].median()\n",
    "\n",
    "townprem4 = room4_df.groupby(['town'],as_index=False).median()[['town','resale_price']]\n",
    "townprem4['town_premium'] = townprem4['resale_price']-townprem4['resale_price'].median()\n",
    "\n",
    "townprem5 = room4_df.groupby(['town'],as_index=False).median()[['town','resale_price']]\n",
    "townprem5['town_premium'] = townprem5['resale_price']-townprem5['resale_price'].median()\n",
    "\n",
    "townprem_multi = multigen_df.groupby(['town'],as_index=False).median()[['town','resale_price']]\n",
    "townprem_multi['town_premium'] = townprem_multi['resale_price']-townprem_multi['resale_price'].median()\n",
    "\n",
    "townprem_exec = executive_df.groupby(['town'],as_index=False).median()[['town','resale_price']]\n",
    "townprem_exec['town_premium'] = townprem_exec['resale_price']-townprem_exec['resale_price'].median()\n"
   ]
  },
  {
   "cell_type": "code",
   "execution_count": 10,
   "id": "fc0656ba",
   "metadata": {},
   "outputs": [],
   "source": [
    "#flat model premium = difference between median price for each model vs overall median resale price\n",
    "flatprem1= room1_df.groupby(['flat_model'],as_index = False).median()[['flat_model','resale_price']]\n",
    "flatprem1['flat_model_premium'] = flatprem1['resale_price']-flatprem1['resale_price'].median()\n",
    "\n",
    "flatprem2= room2_df.groupby(['flat_model'],as_index = False).median()[['flat_model','resale_price']]\n",
    "flatprem2['flat_model_premium'] = flatprem2['resale_price']-flatprem2['resale_price'].median()\n",
    "\n",
    "flatprem3= room3_df.groupby(['flat_model'],as_index = False).median()[['flat_model','resale_price']]\n",
    "flatprem3['flat_model_premium'] = flatprem3['resale_price']-flatprem3['resale_price'].median()\n",
    "\n",
    "flatprem4= room4_df.groupby(['flat_model'],as_index = False).median()[['flat_model','resale_price']]\n",
    "flatprem4['flat_model_premium'] = flatprem4['resale_price']-flatprem4['resale_price'].median()\n",
    "\n",
    "flatprem5= room5_df.groupby(['flat_model'],as_index = False).median()[['flat_model','resale_price']]\n",
    "flatprem5['flat_model_premium'] = flatprem5['resale_price']-flatprem5['resale_price'].median()\n",
    "\n",
    "flatprem_multi= multigen_df.groupby(['flat_model'],as_index = False).median()[['flat_model','resale_price']]\n",
    "flatprem_multi['flat_model_premium'] = flatprem_multi['resale_price']-flatprem_multi['resale_price'].median()\n",
    "\n",
    "flatprem_exec= executive_df.groupby(['flat_model'],as_index = False).median()[['flat_model','resale_price']]\n",
    "flatprem_exec['flat_model_premium'] = flatprem_exec['resale_price']-flatprem_exec['resale_price'].median()"
   ]
  },
  {
   "cell_type": "code",
   "execution_count": 11,
   "id": "27129405",
   "metadata": {},
   "outputs": [],
   "source": [
    "def premiums(dataframe):\n",
    "    townprem = dataframe.groupby(['town'],as_index=False).median()[['town','resale_price']]\n",
    "    townprem['town_premium'] = townprem['resale_price']-townprem['resale_price'].median()\n",
    "    \n",
    "    flatprem= dataframe.groupby(['flat_model'],as_index = False).median()[['flat_model','resale_price']]\n",
    "    flatprem['flat_model_premium'] = flatprem['resale_price']-flatprem['resale_price'].median()"
   ]
  },
  {
   "cell_type": "code",
   "execution_count": 12,
   "id": "513b79f8",
   "metadata": {},
   "outputs": [],
   "source": [
    "x1_df = pd.merge(room1_df, townprem1[['town','town_premium']],on='town')\n",
    "x2_df = pd.merge(room2_df, townprem2[['town','town_premium']],on='town')\n",
    "x3_df = pd.merge(room3_df, townprem3[['town','town_premium']],on='town')\n",
    "x4_df = pd.merge(room4_df, townprem4[['town','town_premium']],on='town')\n",
    "x5_df = pd.merge(room5_df, townprem5[['town','town_premium']],on='town')\n",
    "xmulti_df = pd.merge(multigen_df, townprem_multi[['town','town_premium']],on='town')\n",
    "xexec_df = pd.merge(executive_df, townprem_exec[['town','town_premium']],on='town')\n",
    "\n"
   ]
  },
  {
   "cell_type": "code",
   "execution_count": 13,
   "id": "a79f97d3",
   "metadata": {},
   "outputs": [],
   "source": [
    "room1_df = pd.merge(x1_df, flatprem1[['flat_model','flat_model_premium']],on='flat_model')\n",
    "room2_df = pd.merge(x2_df, flatprem2[['flat_model','flat_model_premium']],on='flat_model')\n",
    "room3_df = pd.merge(x3_df, flatprem3[['flat_model','flat_model_premium']],on='flat_model')\n",
    "room4_df = pd.merge(x4_df, flatprem4[['flat_model','flat_model_premium']],on='flat_model')\n",
    "room5_df = pd.merge(x5_df, flatprem5[['flat_model','flat_model_premium']],on='flat_model')\n",
    "multigen_df = pd.merge(xmulti_df, flatprem_multi[['flat_model','flat_model_premium']],on='flat_model')\n",
    "executive_df = pd.merge(xexec_df, flatprem_exec[['flat_model','flat_model_premium']],on='flat_model')\n",
    "\n",
    "\n"
   ]
  },
  {
   "cell_type": "code",
   "execution_count": 14,
   "id": "d946f0b0",
   "metadata": {},
   "outputs": [],
   "source": [
    "room1_df.to_csv(\"1-room-flat-data.csv\")\n",
    "room2_df.to_csv(\"2-room-flat-data.csv\")\n",
    "room3_df.to_csv(\"3-room-flat-data.csv\")\n",
    "room4_df.to_csv(\"4-room-flat-data.csv\")\n",
    "room5_df.to_csv(\"5-room-flat-data.csv\")\n",
    "multigen_df.to_csv(\"multi-generation-flat-data.csv\")\n",
    "executive_df.to_csv(\"executive-flat-data.csv\")"
   ]
  },
  {
   "cell_type": "code",
   "execution_count": null,
   "id": "50321f95",
   "metadata": {},
   "outputs": [],
   "source": [
    "#room4model = pickle.load(open(\"4_room_prediction_model\", 'rb'))\n",
    "#room4model.predict([[95,87,41,113500,228000]])"
   ]
  },
  {
   "cell_type": "code",
   "execution_count": null,
   "id": "d3567c80",
   "metadata": {},
   "outputs": [],
   "source": []
  }
 ],
 "metadata": {
  "kernelspec": {
   "display_name": "Python 3 (ipykernel)",
   "language": "python",
   "name": "python3"
  },
  "language_info": {
   "codemirror_mode": {
    "name": "ipython",
    "version": 3
   },
   "file_extension": ".py",
   "mimetype": "text/x-python",
   "name": "python",
   "nbconvert_exporter": "python",
   "pygments_lexer": "ipython3",
   "version": "3.9.12"
  }
 },
 "nbformat": 4,
 "nbformat_minor": 5
}
